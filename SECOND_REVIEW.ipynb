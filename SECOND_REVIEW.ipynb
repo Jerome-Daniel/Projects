{
  "nbformat": 4,
  "nbformat_minor": 0,
  "metadata": {
    "colab": {
      "provenance": [],
      "authorship_tag": "ABX9TyON2TaFTFTG3uAQB+PJm5TU",
      "include_colab_link": true
    },
    "kernelspec": {
      "name": "python3",
      "display_name": "Python 3"
    },
    "language_info": {
      "name": "python"
    }
  },
  "cells": [
    {
      "cell_type": "markdown",
      "metadata": {
        "id": "view-in-github",
        "colab_type": "text"
      },
      "source": [
        "<a href=\"https://colab.research.google.com/github/Jerome-Daniel/Projects/blob/main/SECOND_REVIEW.ipynb\" target=\"_parent\"><img src=\"https://colab.research.google.com/assets/colab-badge.svg\" alt=\"Open In Colab\"/></a>"
      ]
    },
    {
      "cell_type": "code",
      "execution_count": null,
      "metadata": {
        "id": "v1bEiph-ay9s"
      },
      "outputs": [],
      "source": [
        "import numpy as np\n",
        "from scipy.spatial.distance import cosine\n",
        "\n",
        "class PersonalizedLearningModel:\n",
        "  def __init__(self, student_data, resource_data):\n",
        "    self.student_data = student_data\n",
        "    self.resource_data = resource_data\n",
        "\n",
        "    # Create a cosine similarity matrix\n",
        "    self.similarity_matrix = np.zeros((len(student_data), len(resource_data)))\n",
        "    for i in range(len(student_data)):\n",
        "      for j in range(len(resource_data)):\n",
        "        self.similarity_matrix[i][j] = cosine(student_data[i], resource_data[j])\n",
        "\n",
        "  def recommend_resources(self, student_id):\n",
        "    # Convert the student ID string to an integer\n",
        "    student_id = int(student_id)\n",
        "\n",
        "    # Get the student's data\n",
        "    student_data = self.student_data[student_id]\n",
        "\n",
        "    # Get the top 10 most similar resources\n",
        "    recommendations = []\n",
        "    for i in range(len(self.resource_data)):  # Access self.resource_data\n",
        "      similarity = self.similarity_matrix[student_id][i]\n",
        "      if similarity > 0.2:\n",
        "        recommendations.append((i, similarity))\n",
        "\n",
        "    # Sort the recommendations by similarity\n",
        "    recommendations.sort(key=lambda x: x[1], reverse=True)\n",
        "    print(recommendations)\n",
        "\n",
        "    return recommendations[:10]"
      ]
    }
  ]
}